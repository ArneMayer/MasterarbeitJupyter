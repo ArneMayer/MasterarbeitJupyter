{
 "cells": [
  {
   "cell_type": "code",
   "execution_count": null,
   "metadata": {},
   "outputs": [],
   "source": [
    "import pandas as pd\n",
    "import numpy as np\n",
    "\n",
    "df = pd.read_csv('/mnt/data/tmp_arne_ma/data/acdoca/acdoca10M.csv')\n",
    "column_count = len(df.columns)\n",
    "row_count = len(df)\n",
    "chunk_size = 100000\n",
    "sample_size = 10\n",
    "chunk_count = ceil(row_count / chunk_size)\n",
    "\n",
    "print(\"Row count: \" + row_count)\n",
    "print(\"Chunk size: \" + chunk_size)\n",
    "\n",
    "for column_id in range(0, column_count):\n",
    "    pruned_chunks = 0\n",
    "    for (n in range(0, sample_size)):\n",
    "        scan_value = df[column_id].iloc[random.randint(0,row_count - 1)]\n",
    "        for (chunk_id in range(0, chunk_count)):\n",
    "            chunk_prunable = True\n",
    "            for (chunk_offset in range(0, chunk_size)):\n",
    "                table_offset = chunk_id * chunk_size + chunk_offset\n",
    "                if table_offset >= row_count:\n",
    "                    break\n",
    "                value = df[column_id].iloc[value]\n",
    "                if value == scan_value:\n",
    "                    chunk_prunable = False\n",
    "            if chunk_prunable:\n",
    "                pruned_chunks += 1\n",
    "                \n",
    "        \n",
    "    pruning_rate = pruned_chunks / float(chunk_count * sample_size)\n",
    "    print(\"Pruning rate for column {}: {}\".format(column_id, pruning_rate))\n",
    "    "
   ]
  }
 ],
 "metadata": {
  "kernelspec": {
   "display_name": "Python 3",
   "language": "python",
   "name": "python3"
  },
  "language_info": {
   "codemirror_mode": {
    "name": "ipython",
    "version": 3
   },
   "file_extension": ".py",
   "mimetype": "text/x-python",
   "name": "python",
   "nbconvert_exporter": "python",
   "pygments_lexer": "ipython3",
   "version": "3.6.5"
  }
 },
 "nbformat": 4,
 "nbformat_minor": 2
}
