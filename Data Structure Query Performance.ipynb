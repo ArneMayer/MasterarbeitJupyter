{
 "cells": [
  {
   "cell_type": "code",
   "execution_count": 1,
   "metadata": {
    "collapsed": true
   },
   "outputs": [],
   "source": [
    "from matplotlib.ticker import FuncFormatter\n",
    "import matplotlib.pyplot as plt\n",
    "import pandas as pd\n",
    "import numpy as np\n",
    "import json\n",
    "from IPython.display import display, HTML\n",
    "\n",
    "#HTML(df.to_html())\n",
    "#display(df)\n",
    "\n",
    "hpi_red = '#b00639'\n",
    "hpi_blue = '#007a9e'\n",
    "hpi_yellow = '#ffde94'\n",
    "\n",
    "def get_column_names(cached): \n",
    "    file_name = 'data_structure_query_' + cached + '_results.csv.json'\n",
    "    table_info = json.load(open(file_name,'r'))\n",
    "    column_names = []\n",
    "    for column in table_info[\"columns\"]:\n",
    "        column_names.append(column[\"name\"])\n",
    "    return column_names\n",
    "\n",
    "def get_results(cached):\n",
    "    file_name = 'data_structure_query_' + cached + '_results.csv'\n",
    "    return pd.read_csv(file_name, header=None, names=get_column_names(cached))\n",
    "\n",
    "# Columns: data_type, data_structure, sample_size, value_count, run_time\n",
    "def select(data, data_type, data_structure):\n",
    "    return data[(data.data_type == data_type) & (data.data_structure == data_structure)]\n",
    "\n",
    "def barplot(data_type):\n",
    "    #Prepare data\n",
    "    results_cached = get_results(\"cached\")\n",
    "    sample_size_cached = results_cached[\"sample_size\"].iloc[0]\n",
    "    filter_result_cached = select(results_cached, data_type, \"filter\")[\"run_time\"].iloc[0]\n",
    "    dictionary_result_cached = select(results_cached, data_type, \"dictionary\")[\"run_time\"].iloc[0]\n",
    "    filter_result_cached = sample_size_cached / (filter_result_cached / pow(10, 6))\n",
    "    dictionary_result_cached = sample_size_cached / (dictionary_result_cached / pow(10, 6))\n",
    "    \n",
    "    results_uncached = get_results(\"uncached\")\n",
    "    sample_size_uncached = results_uncached[\"sample_size\"].iloc[0]\n",
    "    filter_result_uncached = select(results_uncached, data_type, \"filter\")[\"run_time\"].iloc[0]\n",
    "    dictionary_result_uncached = select(results_uncached, data_type, \"dictionary\")[\"run_time\"].iloc[0]\n",
    "    filter_result_uncached = sample_size_uncached / (filter_result_uncached / pow(10, 6))\n",
    "    dictionary_result_uncached = sample_size_uncached / (dictionary_result_uncached / pow(10, 6))\n",
    "    \n",
    "    # Configure figure\n",
    "    #plt.rc('xtick', labelsize=8)\n",
    "    plt.rc('axes', titlesize=10)\n",
    "    plt.rc('figure', titlesize=13)\n",
    "    plt.rc('figure', figsize=(8, 4))\n",
    "    \n",
    "    # Plot data\n",
    "    f, (ax1, ax2) = plt.subplots(1, 2, sharey=True)\n",
    "    title = \"Million Lookups per Second: \" + data_type.title()\n",
    "    f.suptitle(title, y=1.03)\n",
    "    labels=[\"Dictionary\", \"Filter\"]\n",
    "    \n",
    "    bars = np.array([dictionary_result_cached, filter_result_cached]) / pow(10, 6)\n",
    "    ax1.bar(range(2), bars, width=1/1.5, tick_label=labels, color=[hpi_red, hpi_yellow], linewidth=1.0, edgecolor=['black', 'black'])\n",
    "    ax1.set_title(\"Cached\")\n",
    "    ax1.yaxis.grid()\n",
    "    ax1.set_axisbelow(True)\n",
    "    \n",
    "    bars = np.array([dictionary_result_uncached, filter_result_uncached]) / pow(10, 6)\n",
    "    ax2.bar(range(2), bars, width=1/1.5, tick_label=labels, color=[hpi_red, hpi_yellow], linewidth=1.0, edgecolor=['black', 'black'])\n",
    "    ax2.set_title(\"Uncached\")\n",
    "    ax2.yaxis.grid()\n",
    "    ax2.set_axisbelow(True)\n",
    "    \n",
    "    # Save output and render\n",
    "    file_name = title.replace(\" \", \"_\").replace(\":\", \"_\")\n",
    "    plt.savefig('plots/data_structure_query/{}.pgf'.format(file_name))\n",
    "    plt.savefig('plots/data_structure_query/{}.pdf'.format(file_name))\n",
    "    plt.show()"
   ]
  },
  {
   "cell_type": "code",
   "execution_count": 5,
   "metadata": {},
   "outputs": [
    {
     "data": {
      "image/png": "[encoded data removed]",
      "text/plain": [
       "<matplotlib.figure.Figure at 0x1d619abeb00>"
      ]
     },
     "metadata": {},
     "output_type": "display_data"
    },
    {
     "data": {
      "image/png": "[encoded data removed]",
      "text/plain": [
       "<matplotlib.figure.Figure at 0x1d619b60c88>"
      ]
     },
     "metadata": {},
     "output_type": "display_data"
    }
   ],
   "source": [
    "barplot(\"int\")\n",
    "barplot(\"string\")"
   ]
  },
  {
   "cell_type": "code",
   "execution_count": null,
   "metadata": {
    "collapsed": true
   },
   "outputs": [],
   "source": []
  },
  {
   "cell_type": "code",
   "execution_count": null,
   "metadata": {
    "collapsed": true
   },
   "outputs": [],
   "source": []
  }
 ],
 "metadata": {
  "kernelspec": {
   "display_name": "Python 3",
   "language": "python",
   "name": "python3"
  },
  "language_info": {
   "codemirror_mode": {
    "name": "ipython",
    "version": 3
   },
   "file_extension": ".py",
   "mimetype": "text/x-python",
   "name": "python",
   "nbconvert_exporter": "python",
   "pygments_lexer": "ipython3",
   "version": "3.6.3"
  }
 },
 "nbformat": 4,
 "nbformat_minor": 2
}
