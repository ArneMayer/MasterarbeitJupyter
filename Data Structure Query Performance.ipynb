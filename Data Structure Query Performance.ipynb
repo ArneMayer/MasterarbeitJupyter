{
 "cells": [
  {
   "cell_type": "code",
   "execution_count": null,
   "metadata": {
    "collapsed": true
   },
   "outputs": [],
   "source": [
    "from matplotlib.ticker import FuncFormatter\n",
    "import matplotlib.pyplot as plt\n",
    "import pandas as pd\n",
    "import numpy as np\n",
    "import json\n",
    "from IPython.display import display, HTML\n",
    "\n",
    "#HTML(df.to_html())\n",
    "#display(df)\n",
    "\n",
    "hpi_red = '#b00639'\n",
    "hpi_blue = '#007a9e'\n",
    "\n",
    "def get_column_names(benchmark): \n",
    "    table_info = json.load(open(benchmark + '_results.csv.json','r'))\n",
    "    #print(json.dumps(table_info, indent=2, sort_keys=False))\n",
    "    column_names = []\n",
    "    for column in table_info[\"columns\"]:\n",
    "        column_names.append(column[\"name\"])\n",
    "    return column_names\n",
    "\n",
    "def get_results(benchmark):\n",
    "    return pd.read_csv(benchmark + '_results.csv', header=None, names=get_column_names(benchmark))\n",
    "\n",
    "# Columns: data_type, data_structure, sample_size, value_count, run_time\n",
    "def select(data, data_type, data_structure):\n",
    "    return data[(data.data_type == data_type) & (data.data_structure == data_structure)]\n",
    "\n",
    "def cached_query_performance():\n",
    "\n",
    "def uncached_query_performance():\n"
   ]
  }
 ],
 "metadata": {
  "kernelspec": {
   "display_name": "Python 3",
   "language": "python",
   "name": "python3"
  },
  "language_info": {
   "codemirror_mode": {
    "name": "ipython",
    "version": 3
   },
   "file_extension": ".py",
   "mimetype": "text/x-python",
   "name": "python",
   "nbconvert_exporter": "python",
   "pygments_lexer": "ipython3",
   "version": "3.6.3"
  }
 },
 "nbformat": 4,
 "nbformat_minor": 2
}
