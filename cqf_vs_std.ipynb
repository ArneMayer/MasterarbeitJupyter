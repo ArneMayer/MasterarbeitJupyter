{
 "cells": [
  {
   "cell_type": "code",
   "execution_count": 17,
   "metadata": {},
   "outputs": [
    {
     "data": {
      "image/png": "[encoded data removed]",
      "text/plain": [
       "<matplotlib.figure.Figure at 0x7fd40d60ea20>"
      ]
     },
     "metadata": {},
     "output_type": "display_data"
    }
   ],
   "source": [
    "import json\n",
    "from matplotlib.ticker import FuncFormatter\n",
    "import matplotlib.pyplot as plt\n",
    "import numpy as np\n",
    "\n",
    "results = json.load(open('benchmark_results.json','r'))\n",
    "#print(json.dumps(results, indent=2, sort_keys=False))\n",
    "\n",
    "runtimes = dict()\n",
    "runtimes[0] = []\n",
    "runtimes[8] = []\n",
    "runtimes[16] = []\n",
    "runtimes[32] = []\n",
    "remainder_sizes = [o[\"remainder_size\"] for o in results[\"results\"]]\n",
    "#runtimes = [o[\"runtime\"] for o in results[\"results\"]]\n",
    "\n",
    "for result in results[\"results\"]:\n",
    "    runtimes[result[\"remainder_size\"]].append(result[\"runtime\"])\n",
    "    \n",
    "data = [runtimes[0], runtimes[8], runtimes[16], runtimes[32]]\n",
    "\n",
    "\n",
    "def millions(x, pos):\n",
    "    'The two args are the value and tick position'\n",
    "    #return '$%1.1fM' % (x * 1e-6)\n",
    "    return '%1.1fms' % (x * 1e-3)\n",
    "\n",
    "plt.boxplot(data)\n",
    "\n",
    "\n",
    "#formatter = FuncFormatter(millions)\n",
    "\n",
    "#fig, ax = plt.subplots()\n",
    "#ax.yaxis.set_major_formatter(formatter)\n",
    "x = np.arange(4)\n",
    "#plt.bar(x, runtimes)\n",
    "plt.xticks(x, remainder_sizes)\n",
    "plt.show()\n"
   ]
  },
  {
   "cell_type": "code",
   "execution_count": null,
   "metadata": {},
   "outputs": [],
   "source": []
  }
 ],
 "metadata": {
  "kernelspec": {
   "display_name": "Python 3",
   "language": "python",
   "name": "python3"
  },
  "language_info": {
   "codemirror_mode": {
    "name": "ipython",
    "version": 3
   },
   "file_extension": ".py",
   "mimetype": "text/x-python",
   "name": "python",
   "nbconvert_exporter": "python",
   "pygments_lexer": "ipython3",
   "version": "3.6.3"
  }
 },
 "nbformat": 4,
 "nbformat_minor": 2
}
