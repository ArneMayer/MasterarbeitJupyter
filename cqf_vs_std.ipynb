{
 "cells": [
  {
   "cell_type": "code",
   "execution_count": 30,
   "metadata": {},
   "outputs": [
    {
     "name": "stdout",
     "output_type": "stream",
     "text": [
      "remainder_size: 0, avg: 96154.22, minimum: 94080, maximum: 112036\n",
      "remainder_size: 8, avg: 97202.21, minimum: 94755, maximum: 115982\n",
      "remainder_size: 16, avg: 96407.3, minimum: 94849, maximum: 102599\n",
      "remainder_size: 32, avg: 96568.45, minimum: 94873, maximum: 117800\n"
     ]
    },
    {
     "data": {
      "image/png": "[encoded data removed]",
      "text/plain": [
       "<matplotlib.figure.Figure at 0x7fd40d5fcd30>"
      ]
     },
     "metadata": {},
     "output_type": "display_data"
    }
   ],
   "source": [
    "import json\n",
    "import pandas as pd\n",
    "import matplotlib.pyplot as plt\n",
    "import numpy as np\n",
    "from matplotlib.ticker import FuncFormatter\n",
    "\n",
    "results = json.load(open('benchmark_results.json','r'))\n",
    "#print(json.dumps(results, indent=2, sort_keys=False))\n",
    "\n",
    "runtimes = dict()\n",
    "runtimes[0] = []\n",
    "runtimes[8] = []\n",
    "runtimes[16] = []\n",
    "runtimes[32] = []\n",
    "remainder_sizes = [o[\"remainder_size\"] for o in results[\"results\"]]\n",
    "#runtimes = [o[\"runtime\"] for o in results[\"results\"]]\n",
    "\n",
    "for result in results[\"results\"]:\n",
    "    runtimes[result[\"remainder_size\"]].append(result[\"runtime\"])\n",
    "    \n",
    "for remainder_size, runtime_list in runtimes.items():\n",
    "    avg = np.mean(runtime_list)\n",
    "    minimum = np.amin(runtime_list)\n",
    "    maximum = np.amax(runtime_list)\n",
    "    print('remainder_size: ' + str(remainder_size)\n",
    "          + ', avg: ' + str(avg)\n",
    "          + ', minimum: ' + str(minimum)\n",
    "          + ', maximum: ' + str(maximum))\n",
    "    \n",
    "    \n",
    "data = [runtimes[0], runtimes[8], runtimes[16], runtimes[32]]\n",
    "\n",
    "def milliseconds(x, pos):\n",
    "    'The two args are the value and tick position'\n",
    "    return '%i ms' % (x*1e-3)\n",
    "formatter = FuncFormatter(milliseconds)\n",
    "\n",
    "fig, ax = plt.subplots()\n",
    "ax.yaxis.set_major_formatter(formatter)\n",
    "plt.boxplot(data, labels=['None', '8', '16', '32'], showfliers=False)\n",
    "plt.title('Quotient filter vs. dictionary')\n",
    "plt.xlabel('remainder size')\n",
    "plt.ylabel('run time')\n",
    "plt.show()\n"
   ]
  },
  {
   "cell_type": "code",
   "execution_count": 26,
   "metadata": {},
   "outputs": [
    {
     "name": "stdout",
     "output_type": "stream",
     "text": [
      "{(100000, 10000, 4): Int64Index([0, 1, 2], dtype='int64')}\n"
     ]
    }
   ],
   "source": [
    "import json\n",
    "import pandas as pd\n",
    "\n",
    "table_info = json.load(open('benchmark_results.csv.json','r'))\n",
    "#print(json.dumps(table_info, indent=2, sort_keys=False))\n",
    "column_ids = dict()\n",
    "for column_id in range(0, len(table_info[\"columns\"]) - 1):\n",
    "    column_info = table_info[\"columns\"][column_id]\n",
    "    column_ids[column_info[\"name\"]] = column_id\n",
    "    \n",
    "#delimiter = table_info[\"config\"][\"delimiter\"]\n",
    "#separator = table_info[\"config\"][\"separator\"]    \n",
    "#, sep=separator, delimiter=delimiter\n",
    "data = pd.read_csv('benchmark_results.csv', header=None)\n",
    "print(data.groupby([column_ids[\"row_count\"], \n",
    "                    column_ids[\"chunk_size\"],\n",
    "                    column_ids[\"remainder_size\"]]).groups)\n"
   ]
  },
  {
   "cell_type": "code",
   "execution_count": null,
   "metadata": {},
   "outputs": [],
   "source": []
  },
  {
   "cell_type": "code",
   "execution_count": null,
   "metadata": {},
   "outputs": [],
   "source": []
  }
 ],
 "metadata": {
  "kernelspec": {
   "display_name": "Python 3",
   "language": "python",
   "name": "python3"
  },
  "language_info": {
   "codemirror_mode": {
    "name": "ipython",
    "version": 3
   },
   "file_extension": ".py",
   "mimetype": "text/x-python",
   "name": "python",
   "nbconvert_exporter": "python",
   "pygments_lexer": "ipython3",
   "version": "3.6.3"
  }
 },
 "nbformat": 4,
 "nbformat_minor": 2
}
