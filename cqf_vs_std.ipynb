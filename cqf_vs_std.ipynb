{
 "cells": [
  {
   "cell_type": "code",
   "execution_count": 29,
   "metadata": {},
   "outputs": [
    {
     "name": "stdout",
     "output_type": "stream",
     "text": [
      "{\n",
      "  \"chunk_size\": 1000,\n",
      "  \"column_name\": \"C_ID\",\n",
      "  \"results\": [\n",
      "    {\n",
      "      \"quotient_size\": 10,\n",
      "      \"remainder_size\": 0,\n",
      "      \"runtime\": 35865\n",
      "    },\n",
      "    {\n",
      "      \"quotient_size\": 10,\n",
      "      \"remainder_size\": 8,\n",
      "      \"runtime\": 20286\n",
      "    },\n",
      "    {\n",
      "      \"quotient_size\": 10,\n",
      "      \"remainder_size\": 16,\n",
      "      \"runtime\": 26442\n",
      "    },\n",
      "    {\n",
      "      \"quotient_size\": 10,\n",
      "      \"remainder_size\": 32,\n",
      "      \"runtime\": 38876\n",
      "    }\n",
      "  ],\n",
      "  \"table_name\": \"CUSTOMER\",\n",
      "  \"warehouse_size\": 1\n",
      "}\n"
     ]
    },
    {
     "data": {
      "image/png": "[encoded data removed]",
      "text/plain": [
       "<matplotlib.figure.Figure at 0x7f0859118898>"
      ]
     },
     "metadata": {},
     "output_type": "display_data"
    }
   ],
   "source": [
    "import json\n",
    "from matplotlib.ticker import FuncFormatter\n",
    "import matplotlib.pyplot as plt\n",
    "import numpy as np\n",
    "\n",
    "results = json.load(open('benchmark_results.json','r'))\n",
    "print(json.dumps(results, indent=2, sort_keys=False))\n",
    "\n",
    "remainder_sizes = [o[\"remainder_size\"] for o in results[\"results\"]]\n",
    "runtimes = [o[\"runtime\"] for o in results[\"results\"]]\n",
    "\n",
    "x = np.arange(4)\n",
    "money = [1.5e5, 2.5e6, 5.5e6, 2.0e7]\n",
    "\n",
    "\n",
    "def millions(x, pos):\n",
    "    'The two args are the value and tick position'\n",
    "    #return '$%1.1fM' % (x * 1e-6)\n",
    "    return '%1.1fms' % (x * 1e-3)\n",
    "\n",
    "\n",
    "formatter = FuncFormatter(millions)\n",
    "\n",
    "fig, ax = plt.subplots()\n",
    "ax.yaxis.set_major_formatter(formatter)\n",
    "plt.bar(x, runtimes)\n",
    "plt.xticks(x, remainder_sizes)\n",
    "plt.show()"
   ]
  },
  {
   "cell_type": "code",
   "execution_count": null,
   "metadata": {},
   "outputs": [],
   "source": []
  }
 ],
 "metadata": {
  "kernelspec": {
   "display_name": "Python 3",
   "language": "python",
   "name": "python3"
  },
  "language_info": {
   "codemirror_mode": {
    "name": "ipython",
    "version": 3
   },
   "file_extension": ".py",
   "mimetype": "text/x-python",
   "name": "python",
   "nbconvert_exporter": "python",
   "pygments_lexer": "ipython3",
   "version": "3.6.3"
  }
 },
 "nbformat": 4,
 "nbformat_minor": 2
}
