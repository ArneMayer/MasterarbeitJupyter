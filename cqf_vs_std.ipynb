{
 "cells": [
  {
   "cell_type": "code",
   "execution_count": 1,
   "metadata": {},
   "outputs": [],
   "source": [
    "from matplotlib.ticker import FuncFormatter\n",
    "\n",
    "def show_boxplot(data):\n",
    "    def milliseconds(x, pos):\n",
    "        'The two args are the value and tick position'\n",
    "        #return '%i ms' % (x*1e-3)\n",
    "        return '%i µs' % x\n",
    "    \n",
    "    formatter = FuncFormatter(milliseconds)\n",
    "    plot_labels = ['None', '2', '4', '8', '16'][0:len(data)]\n",
    "    fig, ax = plt.subplots()\n",
    "    ax.yaxis.set_major_formatter(formatter)\n",
    "    plt.boxplot(data, labels=plot_labels, showfliers=False)\n",
    "    #plt.title('Quotient filter vs. dictionary')\n",
    "    plt.xlabel('remainder size')\n",
    "    plt.ylabel('run time')\n",
    "    ax.set_ylim(ymin=0)\n",
    "    plt.show()\n",
    "    "
   ]
  },
  {
   "cell_type": "code",
   "execution_count": 2,
   "metadata": {},
   "outputs": [
    {
     "name": "stdout",
     "output_type": "stream",
     "text": [
      "row_count: 10000000, chunk_size: 1000000, dictionary: 0, btree: 0\n"
     ]
    },
    {
     "data": {
      "image/png": "[encoded data removed]",
      "text/plain": [
       "<matplotlib.figure.Figure at 0x7f6acf7bd0f0>"
      ]
     },
     "metadata": {},
     "output_type": "display_data"
    },
    {
     "name": "stdout",
     "output_type": "stream",
     "text": [
      "row_count: 10000000, chunk_size: 1000000, dictionary: 0, btree: 1\n"
     ]
    },
    {
     "data": {
      "image/png": "[encoded data removed]",
      "text/plain": [
       "<matplotlib.figure.Figure at 0x7f6acf7bd2b0>"
      ]
     },
     "metadata": {},
     "output_type": "display_data"
    },
    {
     "name": "stdout",
     "output_type": "stream",
     "text": [
      "row_count: 10000000, chunk_size: 1000000, dictionary: 1, btree: 0\n"
     ]
    },
    {
     "data": {
      "image/png": "[encoded data removed]",
      "text/plain": [
       "<matplotlib.figure.Figure at 0x7f6acf7bd128>"
      ]
     },
     "metadata": {},
     "output_type": "display_data"
    }
   ],
   "source": [
    "import json\n",
    "import pandas as pd\n",
    "import matplotlib.pyplot as plt\n",
    "\n",
    "table_info = json.load(open('benchmark_results.csv.json','r'))\n",
    "#print(json.dumps(table_info, indent=2, sort_keys=False))\n",
    "column_ids = dict()\n",
    "for column_id in range(0, len(table_info[\"columns\"])):\n",
    "    column_info = table_info[\"columns\"][column_id]\n",
    "    column_ids[column_info[\"name\"]] = column_id\n",
    "    \n",
    "row_count_column = column_ids[\"row_count\"] \n",
    "chunk_size_column = column_ids[\"chunk_size\"] \n",
    "pruning_ratio_column = column_ids[\"pruning_ratio\"] \n",
    "remainder_size_column = column_ids[\"remainder_size\"]\n",
    "dictionary_column = column_ids[\"dictionary\"]\n",
    "btree_column = column_ids[\"btree\"]\n",
    "art_column = column_ids[\"art\"]\n",
    "run_time_column = column_ids[\"run_time\"]\n",
    "\n",
    "data = pd.read_csv('benchmark_results.csv', header=None)\n",
    "grouped_data = data.groupby([row_count_column, chunk_size_column, pruning_ratio_column, dictionary_column, \n",
    "                             btree_column, art_column])\n",
    "for group_info in list(grouped_data.groups):\n",
    "    row_count = group_info[0]\n",
    "    chunk_size = group_info[1]\n",
    "    pruning_ratio = group_info[2]\n",
    "    dictionary = group_info[3]\n",
    "    btree = group_info[4]\n",
    "    art = group_info[5]\n",
    "    print(\"row_count: \"    + str(row_count) + \n",
    "          \", chunk_size: \" + str(chunk_size) + \n",
    "          \", dictionary: \" + str(dictionary) + \n",
    "          \", btree: \"      + str(btree) +\n",
    "          \", art: \"      + str(art)\n",
    "    group = grouped_data.get_group(group_info)\n",
    "    sub_groups = group.groupby([remainder_size_column])\n",
    "    run_time_data = []\n",
    "    for remainder_size in list(sub_groups.groups):\n",
    "        sub_group = sub_groups.get_group(remainder_size)\n",
    "        run_time_data.append(sub_group[run_time_column])\n",
    "    show_boxplot(run_time_data)\n"
   ]
  },
  {
   "cell_type": "code",
   "execution_count": null,
   "metadata": {},
   "outputs": [],
   "source": []
  }
 ],
 "metadata": {
  "kernelspec": {
   "display_name": "Python 3",
   "language": "python",
   "name": "python3"
  },
  "language_info": {
   "codemirror_mode": {
    "name": "ipython",
    "version": 3
   },
   "file_extension": ".py",
   "mimetype": "text/x-python",
   "name": "python",
   "nbconvert_exporter": "python",
   "pygments_lexer": "ipython3",
   "version": "3.6.3"
  }
 },
 "nbformat": 4,
 "nbformat_minor": 2
}
